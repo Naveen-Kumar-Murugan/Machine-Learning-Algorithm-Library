{
 "cells": [
  {
   "cell_type": "code",
   "execution_count": 1,
   "id": "ee3ccd82",
   "metadata": {},
   "outputs": [],
   "source": [
    "#importing all the necessary libraries required for the algorithm\n",
    "import numpy as np\n",
    "import math\n",
    "import copy\n",
    "import pandas as pd\n",
    "import matplotlib.pyplot as plt\n",
    "%matplotlib inline"
   ]
  },
  {
   "cell_type": "code",
   "execution_count": 2,
   "id": "c08babe8",
   "metadata": {
    "scrolled": true
   },
   "outputs": [
    {
     "name": "stdout",
     "output_type": "stream",
     "text": [
      "[[-1113.92458108   952.10540425  -276.04588086]\n",
      " [-2229.48022767  1111.48856784   -93.4541072 ]\n",
      " [ 2717.25771283    53.43123706  -179.22859092]\n",
      " ...\n",
      " [ -533.44699332  1171.45733504  -130.84092473]\n",
      " [ 1810.49910349  -424.11169601  -128.33498562]\n",
      " [ -861.91021653   257.2959923   -176.1228714 ]]\n",
      "[ -1294.28891782 -27146.87008356  64743.00171817 ...   -285.70796526\n",
      "   8161.59530383   -255.16713134]\n"
     ]
    }
   ],
   "source": [
    "#reading the dataset given\n",
    "df = pd.read_csv('polynomial_train.csv')\n",
    "arr = df.to_numpy()\n",
    "arr = np.delete(arr,0,axis=1)\n",
    "m = len(arr)\n",
    "n = arr.shape[1]\n",
    "x_values = np.delete(arr,n-1,axis=1)\n",
    "print(x_values)\n",
    "y_values = arr[:,n-1]\n",
    "print(y_values)"
   ]
  },
  {
   "cell_type": "code",
   "execution_count": 3,
   "id": "64df16d2",
   "metadata": {},
   "outputs": [
    {
     "name": "stdout",
     "output_type": "stream",
     "text": [
      "Enter value of degree : 3\n"
     ]
    }
   ],
   "source": [
    "#enter the degree of polynomial to find the features\n",
    "degree = int(input(\"Enter value of degree : \"))"
   ]
  },
  {
   "cell_type": "code",
   "execution_count": 4,
   "id": "9d7db50b",
   "metadata": {},
   "outputs": [
    {
     "name": "stdout",
     "output_type": "stream",
     "text": [
      "(50000, 19)\n"
     ]
    }
   ],
   "source": [
    "#code to add additional features based on degree\n",
    "tmp = np.zeros((m,1))\n",
    "for i in range(degree+1):\n",
    "    for j in range(degree+1):\n",
    "        for k in range(degree+1):\n",
    "            if (i+j+k)>degree or (i+j+k)<=1:\n",
    "                continue\n",
    "            else:\n",
    "                tmp = ((x_values[:,0]**i)*(x_values[:,1]**j)*(x_values[:,2]**k))\n",
    "                tmp = np.reshape(tmp,(m,1))\n",
    "                x_values = np.hstack((x_values,tmp))\n",
    "                \n",
    "#assinging value of n\n",
    "n = x_values.shape[1]\n",
    "\n",
    "print(x_values.shape)"
   ]
  },
  {
   "cell_type": "code",
   "execution_count": 5,
   "id": "6f930cc6",
   "metadata": {},
   "outputs": [],
   "source": [
    "#to assign initial values to w and b\n",
    "w_init = np.zeros(n,)\n",
    "b_init = 0"
   ]
  },
  {
   "cell_type": "code",
   "execution_count": 6,
   "id": "f9b88dc3",
   "metadata": {},
   "outputs": [],
   "source": [
    "#to find mean\n",
    "def mean(x_values,m,n):\n",
    "    mean = np.zeros(n,)\n",
    "    for j in range(n):\n",
    "        mean[j]  = (np.sum(x_values[:,j]))/m\n",
    "    return mean"
   ]
  },
  {
   "cell_type": "code",
   "execution_count": 7,
   "id": "7122664f",
   "metadata": {},
   "outputs": [],
   "source": [
    "#to find standard deviation\n",
    "def std_deviation(x_values,mean,m,n):\n",
    "    summation = np.zeros(n,)\n",
    "    standard_deviation = np.zeros(n,)\n",
    "    for j in range(n):\n",
    "        summation[j] = (np.sum((x_values[:,j]-mean[j])**2))/m\n",
    "        standard_deviation[j] = math.sqrt(summation[j])\n",
    "    return standard_deviation"
   ]
  },
  {
   "cell_type": "code",
   "execution_count": 8,
   "id": "ce245d76",
   "metadata": {},
   "outputs": [],
   "source": [
    "#implementing the z score normalization\n",
    "def z_score(x_values,m,n):\n",
    "    avg = mean(x_values,m,n)\n",
    "    standard_deviation = std_deviation(x_values,avg,m,n)\n",
    "    x_modified = np.zeros_like(x_values)\n",
    "    for j in range(n):\n",
    "        x_modified[:,j]= ((x_values[:,j]-avg[j])/standard_deviation[j])\n",
    "    return x_modified"
   ]
  },
  {
   "cell_type": "code",
   "execution_count": 9,
   "id": "5cf3c90f",
   "metadata": {},
   "outputs": [],
   "source": [
    "#finding cost function\n",
    "def cost_func(x_values,y_values,m,w,b):\n",
    "    y_predicted=np.zeros(m)\n",
    "    cost=0\n",
    "    for i in range(m):\n",
    "        #finding the predicted value of y (y_cap)\n",
    "        y_predicted[i] = ((np.dot(w,x_values[i]))+b)\n",
    "    #finding cost\n",
    "    cost = np.sum((y_predicted-y_values)**2)\n",
    "    final_cost = (cost/(2*m)) \n",
    "    return final_cost"
   ]
  },
  {
   "cell_type": "code",
   "execution_count": 10,
   "id": "784e43ab",
   "metadata": {},
   "outputs": [],
   "source": [
    "#to find rmse\n",
    "def rmse(x_values,y_values,m,w,b):\n",
    "    cost = cost_func(x_values,y_values,m,w,b)\n",
    "    rms = math.sqrt((cost)*2)\n",
    "    return rms"
   ]
  },
  {
   "cell_type": "code",
   "execution_count": 11,
   "id": "a3cd2f02",
   "metadata": {},
   "outputs": [],
   "source": [
    "def r2(x_values,y_values,w,b,m,n):\n",
    "    y_cap = (np.matmul(x_values,w)+b)\n",
    "    y_mean = np.sum(y_values)/m\n",
    "    r2 = np.sum((y_values-y_cap)**2)/np.sum((y_values-y_mean)**2)\n",
    "    return 1-r2"
   ]
  },
  {
   "cell_type": "code",
   "execution_count": 12,
   "id": "5ab5da98",
   "metadata": {},
   "outputs": [],
   "source": [
    "#finding the derivative of w and b \n",
    "def derivative(x_values,y_values,m,n,w,b):\n",
    "    y_predicted = np.zeros(m)\n",
    "    derivative_w = np.zeros(n)\n",
    "    derivative_b=0\n",
    "    #finding the predicted value \n",
    "    y_predicted = np.matmul(x_values,w)\n",
    "    #finding the loss\n",
    "    loss = (y_predicted-y_values)\n",
    "    for j in range(n):\n",
    "        derivative_w[j] = np.sum((loss*x_values[:,j]))\n",
    "    derivative_b = np.sum(loss)\n",
    "    derivative_w = derivative_w/m\n",
    "    derivative_b = derivative_b/m\n",
    "    \n",
    "    return derivative_w,derivative_b"
   ]
  },
  {
   "cell_type": "code",
   "execution_count": 13,
   "id": "01cd68e9",
   "metadata": {},
   "outputs": [],
   "source": [
    "#performing he gradiant descent for the given values\n",
    "def gradiant_decent(x_values,y_values,m,n,w,b,alpha,num_iterations):\n",
    "    w_temp = copy.deepcopy(w)\n",
    "    b_temp = b\n",
    "    loss_arr = np.zeros(num_iterations,)\n",
    "    #running loop of 'no. of iterations times':\n",
    "    for i in range(num_iterations):\n",
    "        #finding derivative of w and b\n",
    "        derivative_w,derivative_b = derivative(x_values,y_values,m,n,w_temp,b_temp)\n",
    "        #changing the values of w and b\n",
    "        w_temp = w_temp - (alpha*derivative_w)\n",
    "        b_temp = b_temp - (alpha*derivative_b)\n",
    "        #storing the loss\n",
    "        loss_arr[i]=cost_func(x_values,y_values,m,w_temp,b_temp)\n",
    "        #printing the loss\n",
    "        if(i%50==0):\n",
    "            loss = cost_func(x_values,y_values,m,w_temp,b_temp)\n",
    "            rms = rmse(x_values,y_values,m,w_temp,b_temp)\n",
    "            print(\"The loss after \"+str(i)+\" iterations is \"+str(loss)+\" and the rmse is \"+str(rms))\n",
    "    return w_temp,b_temp,loss_arr"
   ]
  },
  {
   "cell_type": "code",
   "execution_count": 14,
   "id": "88da844b",
   "metadata": {},
   "outputs": [],
   "source": [
    "def polynomial_regression(x_values,y_values,m,n,w,b,alpha,num_iterations):\n",
    "    loss_ar = np.zeros(num_iterations)\n",
    "    w_tmp,b_tmp,loss_ar = gradiant_decent(x_values,y_values,m,n,w,b,alpha,num_iterations)\n",
    "    print(\"The values of w and b are \"+str(w_tmp)+\" \"+str(b_tmp))\n",
    "    return w_tmp,b_tmp,loss_ar"
   ]
  },
  {
   "cell_type": "code",
   "execution_count": 15,
   "id": "5fbbc5ba",
   "metadata": {
    "scrolled": true
   },
   "outputs": [
    {
     "name": "stdout",
     "output_type": "stream",
     "text": [
      "enter number of iterations. : 1500\n"
     ]
    }
   ],
   "source": [
    "num_iterations = int(input(\"enter number of iterations. : \"))"
   ]
  },
  {
   "cell_type": "code",
   "execution_count": 16,
   "id": "c1787e8c",
   "metadata": {
    "scrolled": true
   },
   "outputs": [
    {
     "name": "stdout",
     "output_type": "stream",
     "text": [
      "The loss after 0 iterations is 3233662531253.5405 and the rmse is 2543093.600815173\n",
      "The loss after 50 iterations is 1605974696767.4236 and the rmse is 1792191.226832351\n",
      "The loss after 100 iterations is 1202618918316.034 and the rmse is 1550882.9216391763\n",
      "The loss after 150 iterations is 955932906049.1771 and the rmse is 1382702.358462715\n",
      "The loss after 200 iterations is 791831883203.7151 and the rmse is 1258437.0331516115\n",
      "The loss after 250 iterations is 679385193083.9714 and the rmse is 1165663.0671716174\n",
      "The loss after 300 iterations is 600624807080.5433 and the rmse is 1096015.3348202235\n",
      "The loss after 350 iterations is 544306754650.98895 and the rmse is 1043366.4309828919\n",
      "The loss after 400 iterations is 503188468265.8813 and the rmse is 1003183.4012441407\n",
      "The loss after 450 iterations is 472534402489.56995 and the rmse is 972146.4935796147\n",
      "The loss after 500 iterations is 449212631263.5922 and the rmse is 947852.9751639673\n",
      "The loss after 550 iterations is 431127775741.0116 and the rmse is 928577.1650660074\n",
      "The loss after 600 iterations is 416859671440.78217 and the rmse is 913082.330834172\n",
      "The loss after 650 iterations is 405431410523.787 and the rmse is 900479.2174434533\n",
      "The loss after 700 iterations is 396159640171.9397 and the rmse is 890123.1826797229\n",
      "The loss after 750 iterations is 388557446448.8875 and the rmse is 881541.2031764454\n",
      "The loss after 800 iterations is 382270985140.3085 and the rmse is 874380.9068596002\n",
      "The loss after 850 iterations is 377037847979.67645 and the rmse is 868375.3197548586\n",
      "The loss after 900 iterations is 372659482795.91705 and the rmse is 863318.5771149802\n",
      "The loss after 950 iterations is 368982742028.3092 and the rmse is 859049.1744112315\n",
      "The loss after 1000 iterations is 365887392371.16974 and the rmse is 855438.3582364889\n",
      "The loss after 1050 iterations is 363277542602.6709 and the rmse is 852382.0066175387\n",
      "The loss after 1100 iterations is 361075667107.30566 and the rmse is 849794.8777290973\n",
      "The loss after 1150 iterations is 359218365341.4233 and the rmse is 847606.4715909421\n",
      "The loss after 1200 iterations is 357653295460.40594 and the rmse is 845757.9978461994\n",
      "The loss after 1250 iterations is 356336912750.8355 and the rmse is 844200.1098683126\n",
      "The loss after 1300 iterations is 355232768196.0061 and the rmse is 842891.1770756722\n",
      "The loss after 1350 iterations is 354310203619.4951 and the rmse is 841795.941567189\n",
      "The loss after 1400 iterations is 353543332879.2083 and the rmse is 840884.454463523\n",
      "The loss after 1450 iterations is 352910233454.2969 and the rmse is 840131.2200535068\n",
      "The values of w and b are [-946410.12996701  -27080.98765067  -23024.72270066   11586.68295668\n",
      "    7128.72592755   11894.81146265    3705.29456873   -5738.67918218\n",
      "   -9002.25315932   -5013.53139347  285293.85169516  114861.30633144\n",
      "  -39428.12687128  -44856.80110128  -13711.58465732   25373.62886182\n",
      "  144713.98468124  121437.24666028 3176127.75645893] 71413.11207132615\n"
     ]
    }
   ],
   "source": [
    "w_final = np.zeros(n,)\n",
    "b_final =  0\n",
    "loss_array = np.zeros(num_iterations,)\n",
    "x_modified = z_score(x_values,m,n)\n",
    "w_final,b_final,loss_array = polynomial_regression(x_modified,y_values,m,n,w_init,b_init,0.01,num_iterations)"
   ]
  },
  {
   "cell_type": "code",
   "execution_count": 17,
   "id": "0ed1a9dc",
   "metadata": {},
   "outputs": [
    {
     "data": {
      "text/plain": [
       "0.8944251767004523"
      ]
     },
     "execution_count": 17,
     "metadata": {},
     "output_type": "execute_result"
    }
   ],
   "source": [
    "r2(x_modified,y_values,w_final,b_final,m,n)"
   ]
  },
  {
   "cell_type": "code",
   "execution_count": null,
   "id": "7a7ad85a",
   "metadata": {},
   "outputs": [],
   "source": [
    "print(w_final,b_final)\n",
    "print(loss_array)"
   ]
  },
  {
   "cell_type": "code",
   "execution_count": 18,
   "id": "1b149ee1",
   "metadata": {},
   "outputs": [
    {
     "data": {
      "image/png": "[encoded data removed]",
      "text/plain": [
       "<Figure size 640x480 with 1 Axes>"
      ]
     },
     "metadata": {},
     "output_type": "display_data"
    }
   ],
   "source": [
    "#plot the graph of iterations vs cost function\n",
    "plt.plot(np.arange(1500),loss_array,c='r')\n",
    "plt.xlabel('number of iterations->')\n",
    "plt.ylabel('cost function->')\n",
    "plt.show()"
   ]
  },
  {
   "cell_type": "code",
   "execution_count": null,
   "id": "fa2155c6",
   "metadata": {},
   "outputs": [],
   "source": [
    "#plotting y values with respect to feature A\n",
    "plt.scatter((x_values[:,0]),y_values,c='blue',marker='x')\n",
    "li =[]\n",
    "for i in range(n):\n",
    "    tmp = np.random.randint(-10000,10000)\n",
    "    li.append(tmp)\n",
    "    \n",
    "#plt.scatter(li,(li*w_final)+b_final,c='blue')\n",
    "plt.xlabel('x->')\n",
    "plt.ylabel('y->')\n",
    "plt.show()"
   ]
  },
  {
   "cell_type": "code",
   "execution_count": null,
   "id": "c5545872",
   "metadata": {},
   "outputs": [],
   "source": [
    "#ploting y values with respect to feature B\n",
    "plt.scatter(x_values[:,1],y_values,c='red',marker='.')\n",
    "plt.xlabel('x->')\n",
    "plt.ylabel('y->')\n",
    "plt.show()"
   ]
  },
  {
   "cell_type": "code",
   "execution_count": null,
   "id": "5fa5c965",
   "metadata": {},
   "outputs": [],
   "source": [
    "#ploting y values with respect to feature C\n",
    "plt.scatter(x_values[:,2],y_values,c='red',marker='.')\n",
    "plt.xlabel('x->')\n",
    "plt.ylabel('y->')\n",
    "plt.show()"
   ]
  },
  {
   "cell_type": "code",
   "execution_count": null,
   "id": "74e27c99",
   "metadata": {},
   "outputs": [],
   "source": [
    "#reading the dataset given\n",
    "df = pd.read_csv('polynomial_test_data.csv')\n",
    "arr_test = df.to_numpy()\n",
    "m_test = len(arr_test)\n",
    "n_test = arr_test.shape[1]\n",
    "x_values_test = np.delete(arr_test,0,axis=1)\n",
    "print(x_values_test)\n",
    "y_values_test = arr_test[:,0]\n",
    "print(y_values_test)"
   ]
  },
  {
   "cell_type": "code",
   "execution_count": null,
   "id": "b0df7c2e",
   "metadata": {},
   "outputs": [],
   "source": [
    "plt.scatter(x_values_test[:,2],y_values_test,c='red',marker='.')\n",
    "li =[]\n",
    "for i in range(n):\n",
    "    tmp = np.random.randint(-10000,10000)\n",
    "    li.append(tmp)\n",
    "    \n",
    "#plt.scatter(li,(li*w_final)+b_final,c='blue')\n",
    "plt.xlabel('x->')\n",
    "plt.ylabel('y->')\n",
    "plt.show()"
   ]
  },
  {
   "cell_type": "code",
   "execution_count": null,
   "id": "24d18850",
   "metadata": {},
   "outputs": [],
   "source": []
  },
  {
   "cell_type": "code",
   "execution_count": null,
   "id": "b0c81b5a",
   "metadata": {},
   "outputs": [],
   "source": []
  }
 ],
 "metadata": {
  "kernelspec": {
   "display_name": "Python 3 (ipykernel)",
   "language": "python",
   "name": "python3"
  },
  "language_info": {
   "codemirror_mode": {
    "name": "ipython",
    "version": 3
   },
   "file_extension": ".py",
   "mimetype": "text/x-python",
   "name": "python",
   "nbconvert_exporter": "python",
   "pygments_lexer": "ipython3",
   "version": "3.11.2"
  }
 },
 "nbformat": 4,
 "nbformat_minor": 5
}
