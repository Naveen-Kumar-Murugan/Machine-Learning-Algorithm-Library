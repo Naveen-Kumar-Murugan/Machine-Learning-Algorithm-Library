{
 "cells": [
  {
   "cell_type": "code",
   "execution_count": 1,
   "id": "daaf2b69",
   "metadata": {},
   "outputs": [],
   "source": [
    "#importing all the necessary libraries required for the algorithm\n",
    "import numpy as np\n",
    "import math\n",
    "import copy\n",
    "import pandas as pd\n",
    "import matplotlib.pyplot as plt\n",
    "%matplotlib inline"
   ]
  },
  {
   "cell_type": "code",
   "execution_count": 2,
   "id": "7be31168",
   "metadata": {},
   "outputs": [
    {
     "name": "stdout",
     "output_type": "stream",
     "text": [
      "(30000, 784)\n"
     ]
    }
   ],
   "source": [
    "#reading the data's given\n",
    "df = pd.read_csv('classification_train.csv')\n",
    "arr = df.to_numpy()\n",
    "x_values = arr[:,2:786]\n",
    "y_values = arr[:,1]\n",
    "#for finding number of training examples and number of features\n",
    "m = len(x_values)\n",
    "n = len(df.columns)-2\n",
    "\n",
    "#to view the csv file\n",
    "df.head()\n",
    "print(x_values.shape)"
   ]
  },
  {
   "cell_type": "code",
   "execution_count": 3,
   "id": "8aa3fccc",
   "metadata": {
    "scrolled": true
   },
   "outputs": [
    {
     "data": {
      "text/plain": [
       "<matplotlib.image.AxesImage at 0x1221abe50>"
      ]
     },
     "execution_count": 3,
     "metadata": {},
     "output_type": "execute_result"
    },
    {
     "data": {
      "image/png": "[encoded data removed]",
      "text/plain": [
       "<Figure size 640x480 with 1 Axes>"
      ]
     },
     "metadata": {},
     "output_type": "display_data"
    }
   ],
   "source": [
    "plt.imshow(x_values[2998].reshape(28,28))"
   ]
  },
  {
   "cell_type": "code",
   "execution_count": 4,
   "id": "41e4ab54",
   "metadata": {
    "scrolled": true
   },
   "outputs": [
    {
     "name": "stdout",
     "output_type": "stream",
     "text": [
      "[0 1 2 3 4 5 6 7 8 9]\n",
      "(10, 30000)\n"
     ]
    }
   ],
   "source": [
    "num_unique = np.unique(y_values)\n",
    "print((num_unique))\n",
    "y_classes = np.zeros((m,len(num_unique)))\n",
    "for j in range(len(num_unique)):\n",
    "    for i in range(m):\n",
    "        if y_values[i] == num_unique[j]:\n",
    "            y_classes[i,j] = 1\n",
    "y_classes = y_classes.T\n",
    "print(y_classes.shape)"
   ]
  },
  {
   "cell_type": "code",
   "execution_count": 5,
   "id": "83ddff7c",
   "metadata": {
    "scrolled": true
   },
   "outputs": [
    {
     "name": "stdout",
     "output_type": "stream",
     "text": [
      "(10, 784)\n"
     ]
    }
   ],
   "source": [
    "#to assign initial values to w and b\n",
    "w_init = np.zeros((len(num_unique),n ))\n",
    "b_init = np.zeros((len(num_unique),1))\n",
    "print(w_init.shape)"
   ]
  },
  {
   "cell_type": "code",
   "execution_count": 6,
   "id": "12c5ba90",
   "metadata": {},
   "outputs": [],
   "source": [
    "#sigmod function\n",
    "def sigmoid(z):\n",
    "    answer_func = 1/(1+np.exp(-1*(z)))\n",
    "    return answer_func"
   ]
  },
  {
   "cell_type": "code",
   "execution_count": 7,
   "id": "f83e354e",
   "metadata": {},
   "outputs": [],
   "source": [
    "#to creat function\n",
    "def main_func(x_values,w,b):\n",
    "    func = np.zeros((m))\n",
    "    for i in range(m):\n",
    "        func[i] = sigmoid(np.dot(x_values[i],w)+b)\n",
    "    return func"
   ]
  },
  {
   "cell_type": "code",
   "execution_count": null,
   "id": "3b6cc7cb",
   "metadata": {},
   "outputs": [],
   "source": [
    "#to creat function\n",
    "def main_func(x_values,w,b):\n",
    "    func = np.zeros((m))\n",
    "    func[i] = sigmoid(np.matmul(x_values,w)+b)\n",
    "    return func"
   ]
  },
  {
   "cell_type": "code",
   "execution_count": 8,
   "id": "4e30760c",
   "metadata": {},
   "outputs": [],
   "source": [
    "#to find mean\n",
    "def mean(x_values,m,n):\n",
    "    mean = np.zeros(n,)\n",
    "    for j in range(n):\n",
    "        summation = 0\n",
    "        for i in range(m):\n",
    "            summation += x_values[i,j]\n",
    "        mean[j] = summation/m\n",
    "    return mean"
   ]
  },
  {
   "cell_type": "code",
   "execution_count": 9,
   "id": "8796846a",
   "metadata": {},
   "outputs": [],
   "source": [
    "#to find standard deviation\n",
    "def std_deviation(x_values,mean,m,n):\n",
    "    summation = np.zeros(n,)\n",
    "    standard_deviation = np.zeros(n,)\n",
    "    for j in range(n):\n",
    "        for i in range(m):\n",
    "            summation[j] += ((x_values[i,j]-mean[j])**2)\n",
    "        summation[j] = (summation[j]/m)\n",
    "        standard_deviation[j] = math.sqrt(summation[j])\n",
    "    return standard_deviation"
   ]
  },
  {
   "cell_type": "code",
   "execution_count": 10,
   "id": "23a7747a",
   "metadata": {},
   "outputs": [],
   "source": [
    "#implementing the z score normalization\n",
    "def z_score(x_values,m,n):\n",
    "    avg = mean(x_values,m,n)\n",
    "    standard_deviation = std_deviation(x_values,avg,m,n)\n",
    "    x_modified = np.zeros_like(x_values)\n",
    "    for j in range(n):\n",
    "        for i in range(m):\n",
    "            x_modified[i,j]= ((x_values[i,j]-avg[j])/standard_deviation[j])\n",
    "    return x_modified"
   ]
  },
  {
   "cell_type": "code",
   "execution_count": 11,
   "id": "2cc8bb06",
   "metadata": {},
   "outputs": [],
   "source": [
    "#to find the loss\n",
    "def cost_func(x_values,y_values,m,w,b):\n",
    "    y_predicted = main_func(x_values,w,b)\n",
    "    loss = (-1/m)*np.sum(y_values*np.log(y_predicted) + (1-y_values)*np.log(1-y_predicted))\n",
    "    return loss"
   ]
  },
  {
   "cell_type": "code",
   "execution_count": 12,
   "id": "868fcf2c",
   "metadata": {},
   "outputs": [],
   "source": [
    "#finding the derivative of w and b \n",
    "def derivative(x_values,y_values,m,n,w,b):\n",
    "    y_predicted = main_func(x_values,w,b)\n",
    "    loss = y_values-y_predicted\n",
    "    derivative_w = np.zeros(n)\n",
    "    derivative_b = 0\n",
    "    for i in range(n):\n",
    "        derivative_w[i] = (1/m)*np.sum((loss)*x_values[:,i])\n",
    "    derivative_b = (1/m)*np.sum(loss)\n",
    "    \n",
    "    return derivative_w,derivative_b"
   ]
  },
  {
   "cell_type": "code",
   "execution_count": null,
   "id": "9487bd8e",
   "metadata": {},
   "outputs": [],
   "source": [
    "print(cost_func(x_values,y_classes[0],m,w_init[0],b_init[0]))"
   ]
  },
  {
   "cell_type": "code",
   "execution_count": null,
   "id": "65815dde",
   "metadata": {
    "scrolled": false
   },
   "outputs": [],
   "source": [
    "#x_modified = z_score(x_values,m,n)\n",
    "#print(derivative(x_modified,y_classes[0],m,n,w_init[0],b_init[0]))"
   ]
  },
  {
   "cell_type": "code",
   "execution_count": 37,
   "id": "a3fb6bc7",
   "metadata": {},
   "outputs": [],
   "source": [
    "def gradiant_decent(x_values,y_values,m,n,w,b,alpha,num_iterations):\n",
    "    w_temp = copy.deepcopy(w)\n",
    "    b_temp = b\n",
    "    loss_arr = []\n",
    "    for i in range(len(num_unique)):\n",
    "        #running loop of 'no. of iterations times':\n",
    "        print(\"This is for the label : \"+str(i))\n",
    "        for j in range(num_iterations):\n",
    "            #finding derivative of w and b\n",
    "            derivative_w,derivative_b = derivative(x_values,y_values[i],m,n,w_temp[i],b_temp[i])\n",
    "            #changing the values of w and b\n",
    "            for k in range(n):\n",
    "                w_temp[i,k] += alpha*derivative_w[k]\n",
    "            b_temp[i] += alpha*derivative_b\n",
    "            #printing the loss\n",
    "            if(j%50==0):\n",
    "                loss = cost_func(x_values,y_values[i],m,w_temp[i],b_temp[i])\n",
    "                print(\"The loss after \"+str(j)+\" iterations is \"+str(loss))\n",
    "    return w_temp,b_temp"
   ]
  },
  {
   "cell_type": "code",
   "execution_count": 38,
   "id": "0c55bd75",
   "metadata": {},
   "outputs": [],
   "source": [
    "def logistic_regression(x_values,y_values,m,n,w,b,alpha,num_iterations):\n",
    "    w_tmp = np.zeros_like(w_init)\n",
    "    b_tmp = np.zeros_like(b_init)\n",
    "    w_tmp,b_tmp = gradiant_decent(x_values,y_values,m,n,w,b,alpha,num_iterations)\n",
    "    print(\"The values of w and b are \"+str(w_tmp)+\" \"+str(b_tmp))\n",
    "    return w_tmp,b_tmp"
   ]
  },
  {
   "cell_type": "code",
   "execution_count": 58,
   "id": "696d2b23",
   "metadata": {
    "scrolled": true
   },
   "outputs": [
    {
     "name": "stdout",
     "output_type": "stream",
     "text": [
      "This is for the label : 0\n",
      "The loss after 0 iterations is 0.31962484030972527\n",
      "The loss after 50 iterations is 0.14186141493279772\n",
      "The loss after 100 iterations is 0.13041197751094372\n",
      "The loss after 150 iterations is 0.12551521102309385\n",
      "The loss after 200 iterations is 0.12254923932294896\n",
      "The loss after 250 iterations is 0.1204527390941658\n",
      "The loss after 300 iterations is 0.11883976991491371\n",
      "The loss after 350 iterations is 0.11753188044748451\n",
      "The loss after 400 iterations is 0.11643326864316135\n",
      "The loss after 450 iterations is 0.11548696014373722\n",
      "The loss after 500 iterations is 0.11465644320639333\n",
      "The loss after 550 iterations is 0.11391695087457752\n",
      "The loss after 600 iterations is 0.11325091755642226\n",
      "The loss after 650 iterations is 0.11264543176515307\n",
      "The loss after 700 iterations is 0.11209072166972774\n",
      "The loss after 750 iterations is 0.1115792102373695\n",
      "The loss after 800 iterations is 0.11110490147475664\n",
      "The loss after 850 iterations is 0.11066296779696083\n",
      "The loss after 900 iterations is 0.11024946423380859\n",
      "The loss after 950 iterations is 0.10986112526460537\n",
      "The loss after 1000 iterations is 0.10949521705567332\n",
      "This is for the label : 1\n",
      "The loss after 0 iterations is 0.23505240682778744\n",
      "The loss after 50 iterations is 0.06398847009476522\n",
      "The loss after 100 iterations is 0.05023222580409237\n",
      "The loss after 150 iterations is 0.04441021076105728\n",
      "The loss after 200 iterations is 0.04107255269162302\n",
      "The loss after 250 iterations is 0.03885600042707061\n",
      "The loss after 300 iterations is 0.03724947313644582\n",
      "The loss after 350 iterations is 0.036015098241893265\n",
      "The loss after 400 iterations is 0.03502606218523441\n",
      "The loss after 450 iterations is 0.034208144559325034\n",
      "The loss after 500 iterations is 0.03351483843599137\n",
      "The loss after 550 iterations is 0.0329154413130702\n",
      "The loss after 600 iterations is 0.03238882952371243\n",
      "The loss after 650 iterations is 0.031919972695038046\n",
      "The loss after 700 iterations is 0.03149787207409876\n",
      "The loss after 750 iterations is 0.031114284923232274\n",
      "The loss after 800 iterations is 0.030762905090227232\n",
      "The loss after 850 iterations is 0.030438819640029324\n",
      "The loss after 900 iterations is 0.030138138623005815\n",
      "The loss after 950 iterations is 0.029857736822287574\n",
      "The loss after 1000 iterations is 0.029595069890327348\n",
      "This is for the label : 2\n",
      "The loss after 0 iterations is 0.31756300024880046\n",
      "The loss after 50 iterations is 0.18655600579352022\n",
      "The loss after 100 iterations is 0.17384605377935314\n",
      "The loss after 150 iterations is 0.16767755442258633\n",
      "The loss after 200 iterations is 0.1637995498939002\n",
      "The loss after 250 iterations is 0.1610321432125735\n",
      "The loss after 300 iterations is 0.15890401252062641\n",
      "The loss after 350 iterations is 0.15718668557994742\n",
      "The loss after 400 iterations is 0.1557543967855782\n",
      "The loss after 450 iterations is 0.1545311816037934\n",
      "The loss after 500 iterations is 0.15346779265996477\n",
      "The loss after 550 iterations is 0.15253050734947474\n",
      "The loss after 600 iterations is 0.15169521808288422\n",
      "The loss after 650 iterations is 0.1509440860517879\n",
      "The loss after 700 iterations is 0.15026353463950182\n",
      "The loss after 750 iterations is 0.14964298754035482\n",
      "The loss after 800 iterations is 0.14907404290106496\n",
      "The loss after 850 iterations is 0.14854991422218536\n",
      "The loss after 900 iterations is 0.14806504072265883\n",
      "The loss after 950 iterations is 0.1476148089150283\n",
      "The loss after 1000 iterations is 0.1471953492583173\n",
      "This is for the label : 3\n",
      "The loss after 0 iterations is 0.2779151736703258\n",
      "The loss after 50 iterations is 0.13433158267280437\n",
      "The loss after 100 iterations is 0.12110538386039553\n",
      "The loss after 150 iterations is 0.11493454376591025\n",
      "The loss after 200 iterations is 0.11114518770876727\n",
      "The loss after 250 iterations is 0.10848842337512203\n",
      "The loss after 300 iterations is 0.10647004369555893\n",
      "The loss after 350 iterations is 0.10485225411752863\n",
      "The loss after 400 iterations is 0.10350558886328916\n",
      "The loss after 450 iterations is 0.1023531589336858\n",
      "The loss after 500 iterations is 0.10134622969998282\n",
      "The loss after 550 iterations is 0.10045229980141901\n",
      "The loss after 600 iterations is 0.09964878223761671\n",
      "The loss after 650 iterations is 0.09891942423440628\n",
      "The loss after 700 iterations is 0.09825215997971909\n",
      "The loss after 750 iterations is 0.09763776006327916\n",
      "The loss after 800 iterations is 0.09706895642976554\n",
      "The loss after 850 iterations is 0.09653987433807903\n",
      "The loss after 900 iterations is 0.09604567005778936\n",
      "The loss after 950 iterations is 0.09558229973230564\n",
      "The loss after 1000 iterations is 0.09514636295149104\n",
      "This is for the label : 4\n",
      "The loss after 0 iterations is 0.29674548583481386\n",
      "The loss after 50 iterations is 0.16287105086926798\n",
      "The loss after 100 iterations is 0.15270156019463382\n",
      "The loss after 150 iterations is 0.14822245027778325\n",
      "The loss after 200 iterations is 0.14553974739695266\n",
      "The loss after 250 iterations is 0.1436608891860032\n",
      "The loss after 300 iterations is 0.14221996905930617\n",
      "The loss after 350 iterations is 0.1410509820773034\n",
      "The loss after 400 iterations is 0.14006714197997763\n",
      "The loss after 450 iterations is 0.13921801851830878\n",
      "The loss after 500 iterations is 0.13847179821581712\n",
      "The loss after 550 iterations is 0.1378070660096371\n",
      "The loss after 600 iterations is 0.13720864505160063\n",
      "The loss after 650 iterations is 0.13666533134889855\n",
      "The loss after 700 iterations is 0.13616858108014473\n",
      "The loss after 750 iterations is 0.13571170777960312\n",
      "The loss after 800 iterations is 0.1352893676871768\n",
      "The loss after 850 iterations is 0.13489721605897637\n",
      "The loss after 900 iterations is 0.13453166941550312\n",
      "The loss after 950 iterations is 0.13418973604304912\n",
      "The loss after 1000 iterations is 0.13386889201677593\n",
      "This is for the label : 5\n",
      "The loss after 0 iterations is 0.23796375315781507\n",
      "The loss after 50 iterations is 0.12290635471082938\n",
      "The loss after 100 iterations is 0.10488980211025481\n",
      "The loss after 150 iterations is 0.09578622421709594\n",
      "The loss after 200 iterations is 0.08998330075194363\n",
      "The loss after 250 iterations is 0.085833147215841\n",
      "The loss after 300 iterations is 0.0826526805105299\n",
      "The loss after 350 iterations is 0.0801005016586772\n",
      "The loss after 400 iterations is 0.07798420939745011\n",
      "The loss after 450 iterations is 0.07618584395153286\n",
      "The loss after 500 iterations is 0.07462841023234575\n",
      "The loss after 550 iterations is 0.07325915301500494\n",
      "The loss after 600 iterations is 0.07204049808708347\n",
      "The loss after 650 iterations is 0.07094482317266099\n",
      "The loss after 700 iterations is 0.06995127979549619\n",
      "The loss after 750 iterations is 0.06904377745590207\n",
      "The loss after 800 iterations is 0.06820965830052805\n",
      "The loss after 850 iterations is 0.06743879866640229\n",
      "The loss after 900 iterations is 0.06672298368732155\n",
      "The loss after 950 iterations is 0.06605546181050154\n",
      "The loss after 1000 iterations is 0.06543062095072416\n",
      "This is for the label : 6\n",
      "The loss after 0 iterations is 0.34496353229975146\n",
      "The loss after 50 iterations is 0.23932435518533726\n",
      "The loss after 100 iterations is 0.2252978313410961\n",
      "The loss after 150 iterations is 0.21714155524708345\n",
      "The loss after 200 iterations is 0.21174932926467943\n",
      "The loss after 250 iterations is 0.20791507591491198\n",
      "The loss after 300 iterations is 0.20504445147591846\n",
      "The loss after 350 iterations is 0.2028095800821207\n",
      "The loss after 400 iterations is 0.2010152920352197\n",
      "The loss after 450 iterations is 0.1995385600790263\n",
      "The loss after 500 iterations is 0.19829820975474313\n",
      "The loss after 550 iterations is 0.19723862974902262\n",
      "The loss after 600 iterations is 0.19632049760816742\n",
      "The loss after 650 iterations is 0.19551524701897827\n",
      "The loss after 700 iterations is 0.19480163477738668\n",
      "The loss after 750 iterations is 0.19416353754396667\n",
      "The loss after 800 iterations is 0.1935884957644719\n",
      "The loss after 850 iterations is 0.19306672622511298\n",
      "The loss after 900 iterations is 0.19259043689881195\n",
      "The loss after 950 iterations is 0.1921533417046774\n",
      "The loss after 1000 iterations is 0.19175031046440497\n",
      "This is for the label : 7\n",
      "The loss after 0 iterations is 0.25803574583184485\n",
      "The loss after 50 iterations is 0.09321494688895497\n",
      "The loss after 100 iterations is 0.08100197055707159\n",
      "The loss after 150 iterations is 0.07475398757572393\n",
      "The loss after 200 iterations is 0.07067754438471197\n"
     ]
    },
    {
     "name": "stdout",
     "output_type": "stream",
     "text": [
      "The loss after 250 iterations is 0.067725958711866\n",
      "The loss after 300 iterations is 0.06545597956723512\n",
      "The loss after 350 iterations is 0.0636381371253198\n",
      "The loss after 400 iterations is 0.0621388910678127\n",
      "The loss after 450 iterations is 0.06087424593557396\n",
      "The loss after 500 iterations is 0.05978830360812831\n",
      "The loss after 550 iterations is 0.05884221440211676\n",
      "The loss after 600 iterations is 0.05800802339535348\n",
      "The loss after 650 iterations is 0.05726503258229365\n",
      "The loss after 700 iterations is 0.056597545527969154\n",
      "The loss after 750 iterations is 0.05599341330887686\n",
      "The loss after 800 iterations is 0.055443065661181214\n",
      "The loss after 850 iterations is 0.054938846965140745\n",
      "The loss after 900 iterations is 0.054474549884951574\n",
      "The loss after 950 iterations is 0.0540450807277745\n",
      "The loss after 1000 iterations is 0.05364621471847939\n",
      "This is for the label : 8\n",
      "The loss after 0 iterations is 0.26331904804733514\n",
      "The loss after 50 iterations is 0.09179078932806525\n",
      "The loss after 100 iterations is 0.07769670245947415\n",
      "The loss after 150 iterations is 0.07133867119678672\n",
      "The loss after 200 iterations is 0.06744763242800268\n",
      "The loss after 250 iterations is 0.0647156726894385\n",
      "The loss after 300 iterations is 0.06264116539500021\n",
      "The loss after 350 iterations is 0.0609840329688952\n",
      "The loss after 400 iterations is 0.05961265602809246\n",
      "The loss after 450 iterations is 0.05844786486984884\n",
      "The loss after 500 iterations is 0.05743869473388653\n",
      "The loss after 550 iterations is 0.056550582700316834\n",
      "The loss after 600 iterations is 0.05575909868803685\n",
      "The loss after 650 iterations is 0.05504638351144085\n",
      "The loss after 700 iterations is 0.054399012540054546\n",
      "The loss after 750 iterations is 0.05380665578654682\n",
      "The loss after 800 iterations is 0.05326120509907699\n",
      "The loss after 850 iterations is 0.052756186814554275\n",
      "The loss after 900 iterations is 0.052286355183964205\n",
      "The loss after 950 iterations is 0.05184740390688604\n",
      "The loss after 1000 iterations is 0.051435756997957174\n",
      "This is for the label : 9\n",
      "The loss after 0 iterations is 0.24939198237600796\n",
      "The loss after 50 iterations is 0.07031863475867398\n",
      "The loss after 100 iterations is 0.06198912174051986\n",
      "The loss after 150 iterations is 0.05790299322300119\n",
      "The loss after 200 iterations is 0.055177797573818514\n",
      "The loss after 250 iterations is 0.05314024028479451\n",
      "The loss after 300 iterations is 0.05152443407301368\n",
      "The loss after 350 iterations is 0.05019460339143768\n",
      "The loss after 400 iterations is 0.0490709644455805\n",
      "The loss after 450 iterations is 0.04810247777642519\n",
      "The loss after 500 iterations is 0.04725455897799305\n",
      "The loss after 550 iterations is 0.04650275210366669\n",
      "The loss after 600 iterations is 0.04582917195490477\n",
      "The loss after 650 iterations is 0.04522037370649114\n",
      "The loss after 700 iterations is 0.044666014721793774\n",
      "The loss after 750 iterations is 0.04415798101323672\n",
      "The loss after 800 iterations is 0.04368979839337663\n",
      "The loss after 850 iterations is 0.043256224458922146\n",
      "The loss after 900 iterations is 0.04285295901849096\n",
      "The loss after 950 iterations is 0.04247643419957411\n",
      "The loss after 1000 iterations is 0.0421236594362329\n",
      "The values of w and b are [[-0.03182169  0.03488617  0.0325938  ... -0.04031865 -0.03112904\n",
      "   0.01655812]\n",
      " [-0.00509074 -0.01115224 -0.01719997 ... -0.01513584 -0.02232407\n",
      "  -0.00622833]\n",
      " [-0.0303686  -0.05351355  0.03564598 ...  0.04006159  0.03287976\n",
      "   0.0629907 ]\n",
      " ...\n",
      " [-0.0021746  -0.00552033 -0.01977997 ... -0.02311227 -0.01392043\n",
      "  -0.00807   ]\n",
      " [-0.03930728  0.00459027 -0.0914867  ... -0.01315705 -0.0385534\n",
      "  -0.08108774]\n",
      " [-0.01269493  0.01193915 -0.00517906 ...  0.04970905  0.04950866\n",
      "   0.01112337]] [[-1.64043925]\n",
      " [-1.98097103]\n",
      " [-1.39063247]\n",
      " [-1.58131724]\n",
      " [-1.32183719]\n",
      " [-2.9277887 ]\n",
      " [-0.95292151]\n",
      " [-1.63279103]\n",
      " [-2.55112166]\n",
      " [-1.91832419]]\n"
     ]
    }
   ],
   "source": [
    "w_final = np.zeros_like(w_init)\n",
    "b_final = np.zeros_like(b_init)\n",
    "x_modified = z_score(x_values,m,n)\n",
    "w_final,b_final = logistic_regression(x_modified,y_classes,m,n,w_init,b_init,0.1,1001)"
   ]
  },
  {
   "cell_type": "code",
   "execution_count": 1,
   "id": "8da3da4c",
   "metadata": {},
   "outputs": [
    {
     "ename": "NameError",
     "evalue": "name 'np' is not defined",
     "output_type": "error",
     "traceback": [
      "\u001b[0;31m---------------------------------------------------------------------------\u001b[0m",
      "\u001b[0;31mNameError\u001b[0m                                 Traceback (most recent call last)",
      "Cell \u001b[0;32mIn[1], line 1\u001b[0m\n\u001b[0;32m----> 1\u001b[0m y_classes_cap \u001b[38;5;241m=\u001b[39m \u001b[43mnp\u001b[49m\u001b[38;5;241m.\u001b[39mzeros_like(y_classes)\n\u001b[1;32m      2\u001b[0m y_cap \u001b[38;5;241m=\u001b[39m np\u001b[38;5;241m.\u001b[39mzeros_like(y_values)\n\u001b[1;32m      3\u001b[0m \u001b[38;5;28;01mfor\u001b[39;00m i \u001b[38;5;129;01min\u001b[39;00m \u001b[38;5;28mrange\u001b[39m(\u001b[38;5;28mlen\u001b[39m(num_unique)):\n",
      "\u001b[0;31mNameError\u001b[0m: name 'np' is not defined"
     ]
    }
   ],
   "source": [
    "y_classes_cap = np.zeros_like(y_classes)\n",
    "y_cap = np.zeros_like(y_values)\n",
    "for i in range(len(num_unique)):\n",
    "    y_classes_cap[i] = main_func(x_modified,w_final[i],b_final[i])\n",
    "for i in range(30000):\n",
    "    temp = np.argmax(y_classes_cap.T[i])\n",
    "    y_cap[i] = num_unique[temp]\n",
    "#for checking accuracy\n",
    "equal = np.sum(y_cap==y_values)\n",
    "accuracy = (equal/m)*100\n",
    "print(accuracy)"
   ]
  },
  {
   "cell_type": "code",
   "execution_count": null,
   "id": "9281d096",
   "metadata": {},
   "outputs": [],
   "source": []
  }
 ],
 "metadata": {
  "kernelspec": {
   "display_name": "Python 3 (ipykernel)",
   "language": "python",
   "name": "python3"
  },
  "language_info": {
   "codemirror_mode": {
    "name": "ipython",
    "version": 3
   },
   "file_extension": ".py",
   "mimetype": "text/x-python",
   "name": "python",
   "nbconvert_exporter": "python",
   "pygments_lexer": "ipython3",
   "version": "3.11.2"
  }
 },
 "nbformat": 4,
 "nbformat_minor": 5
}
