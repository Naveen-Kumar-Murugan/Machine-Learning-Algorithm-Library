{
 "cells": [
  {
   "cell_type": "code",
   "execution_count": 1,
   "id": "9db92c6b",
   "metadata": {},
   "outputs": [],
   "source": [
    "#importing all the necessary libraries required for the algorithm\n",
    "import numpy as np\n",
    "import math\n",
    "import copy\n",
    "import pandas as pd\n",
    "import matplotlib.pyplot as plt\n",
    "%matplotlib inline"
   ]
  },
  {
   "cell_type": "code",
   "execution_count": 2,
   "id": "b0943b6d",
   "metadata": {},
   "outputs": [],
   "source": [
    "#reading the data's given\n",
    "df = pd.read_csv('linear_train.csv')\n",
    "arr = df.to_numpy()\n",
    "x_values = arr[:,1:21]\n",
    "y_values = arr[:,21]\n",
    "#for finding number of training examples and number of features\n",
    "m = len(x_values)\n",
    "n = len(df.columns)-2\n",
    "\n",
    "#to view the csv file"
   ]
  },
  {
   "cell_type": "code",
   "execution_count": 3,
   "id": "c7494158",
   "metadata": {},
   "outputs": [],
   "source": [
    "#to assign initial values to w and b\n",
    "w_init = np.zeros(n,)\n",
    "b_init = 0"
   ]
  },
  {
   "cell_type": "code",
   "execution_count": 4,
   "id": "5ce5e76f",
   "metadata": {},
   "outputs": [],
   "source": [
    "#to find mean\n",
    "def mean(x_values,m,n):\n",
    "    mean = np.zeros(n,)\n",
    "    for j in range(n):\n",
    "        mean[j]  = (np.sum(x_values[:,j]))/m\n",
    "    return mean"
   ]
  },
  {
   "cell_type": "code",
   "execution_count": 5,
   "id": "feaada9a",
   "metadata": {},
   "outputs": [],
   "source": [
    "#to find standard deviation\n",
    "def std_deviation(x_values,mean,m,n):\n",
    "    summation = np.zeros(n,)\n",
    "    standard_deviation = np.zeros(n,)\n",
    "    for j in range(n):\n",
    "        summation[j] = (np.sum((x_values[:,j]-mean[j])**2))/m\n",
    "        standard_deviation[j] = math.sqrt(summation[j])\n",
    "    return standard_deviation"
   ]
  },
  {
   "cell_type": "code",
   "execution_count": 6,
   "id": "c4b6384b",
   "metadata": {},
   "outputs": [],
   "source": [
    "#implementing the z score normalization\n",
    "def z_score(x_values,m,n):\n",
    "    avg = mean(x_values,m,n)\n",
    "    standard_deviation = std_deviation(x_values,avg,m,n)\n",
    "    x_modified = np.zeros_like(x_values)\n",
    "    for j in range(n):\n",
    "        x_modified[:,j]= ((x_values[:,j]-avg[j])/standard_deviation[j])\n",
    "    return x_modified"
   ]
  },
  {
   "cell_type": "code",
   "execution_count": 7,
   "id": "f7cba105",
   "metadata": {},
   "outputs": [],
   "source": [
    "def z_score(x_values):\n",
    "    avg = np.mean(x_values,axis=0)\n",
    "    std_deviation = np.std(x_values,axis=0)\n",
    "    x = (x_values-avg)/std_deviation\n",
    "    return x"
   ]
  },
  {
   "cell_type": "code",
   "execution_count": 8,
   "id": "9fc24ac1",
   "metadata": {},
   "outputs": [],
   "source": [
    "#finding cost function\n",
    "def cost_func(x_values,y_values,m,w,b):\n",
    "    y_predicted=np.zeros(m)\n",
    "    cost=0\n",
    "    for i in range(m):\n",
    "        #finding the predicted value of y (y_cap)\n",
    "        y_predicted[i] = ((np.dot(w,x_values[i]))+b)\n",
    "    #finding cost\n",
    "    cost = np.sum((y_predicted-y_values)**2)\n",
    "    final_cost = (cost/(2*m)) \n",
    "    return final_cost"
   ]
  },
  {
   "cell_type": "code",
   "execution_count": 9,
   "id": "8f19cff6",
   "metadata": {},
   "outputs": [],
   "source": [
    "#to find rmse\n",
    "def rmse(x_values,y_values,m,w,b):\n",
    "    cost = cost_func(x_values,y_values,m,w,b)\n",
    "    rms = math.sqrt((cost)*2)\n",
    "    return rms"
   ]
  },
  {
   "cell_type": "code",
   "execution_count": 10,
   "id": "629ecc11",
   "metadata": {},
   "outputs": [],
   "source": [
    "def r2(x_values,y_values,w,b,m,n):\n",
    "    y_cap = (np.matmul(x_values,w)+b)\n",
    "    y_mean = np.sum(y_values)/m\n",
    "    r2 = np.sum((y_values-y_cap)**2)/np.sum((y_values-y_mean)**2)\n",
    "    return 1-r2"
   ]
  },
  {
   "cell_type": "code",
   "execution_count": 11,
   "id": "2d81e84a",
   "metadata": {},
   "outputs": [],
   "source": [
    "#finding the derivative of w and b \n",
    "def derivative(x_values,y_values,m,n,w,b):\n",
    "    y_predicted = np.zeros(m)\n",
    "    derivative_w = np.zeros(n)\n",
    "    derivative_b=0\n",
    "    #finding the predicted value \n",
    "    y_predicted = (np.matmul(x_values,w)+b)\n",
    "    #finding the loss\n",
    "    loss = (y_predicted-y_values)\n",
    "    for j in range(n):\n",
    "        derivative_w[j] = np.sum((loss*x_values[:,j]))\n",
    "    derivative_b = np.sum(loss)\n",
    "    derivative_w = derivative_w/m\n",
    "    derivative_b = derivative_b/m\n",
    "    \n",
    "    return derivative_w,derivative_b"
   ]
  },
  {
   "cell_type": "code",
   "execution_count": 12,
   "id": "b10745e3",
   "metadata": {},
   "outputs": [],
   "source": [
    "def gradiant_decent(x_values,y_values,m,n,w,b,alpha,num_iterations):\n",
    "    w_temp = copy.deepcopy(w)\n",
    "    b_temp = b\n",
    "    loss_arr = np.zeros(num_iterations)\n",
    "    #running loop of 'no. of iterations times':\n",
    "    for i in range(num_iterations):\n",
    "        #finding derivative of w and b\n",
    "        derivative_w,derivative_b = derivative(x_values,y_values,m,n,w_temp,b_temp)\n",
    "        #changing the values of w and b\n",
    "        w_temp = w_temp - (alpha*derivative_w)\n",
    "        b_temp = b_temp - (alpha*derivative_b)\n",
    "        #storing the loss\n",
    "        loss_arr[i]=cost_func(x_values,y_values,m,w_temp,b_temp)\n",
    "        #printing the loss\n",
    "        if(i%50==0):\n",
    "            loss = cost_func(x_values,y_values,m,w_temp,b_temp)\n",
    "            rms = rmse(x_values,y_values,m,w_temp,b_temp)\n",
    "            print(\"The loss after \"+str(i)+\" iterations is \"+str(loss)+\" and the rmse is \"+str(rms))\n",
    "    return w_temp,b_temp,loss_arr"
   ]
  },
  {
   "cell_type": "code",
   "execution_count": 13,
   "id": "edda6f3f",
   "metadata": {},
   "outputs": [],
   "source": [
    "def multi_linear_regression(x_values,y_values,m,n,w,b,alpha,num_iterations):\n",
    "    loss_array = np.zeros(num_iterations)\n",
    "    w_tmp,b_tmp,loss_array = gradiant_decent(x_values,y_values,m,n,w,b,alpha,num_iterations)\n",
    "    print(\"The values of w and b are \"+str(w_tmp)+\" \"+str(b_tmp))\n",
    "    return w_tmp,b_tmp,loss_array"
   ]
  },
  {
   "cell_type": "code",
   "execution_count": 14,
   "id": "0cca402e",
   "metadata": {
    "scrolled": false
   },
   "outputs": [
    {
     "name": "stdout",
     "output_type": "stream",
     "text": [
      "The loss after 0 iterations is 29785.029539374613 and the rmse is 244.0697832152707\n",
      "The loss after 50 iterations is 13216.9524770037 and the rmse is 162.5850698988299\n",
      "The loss after 100 iterations is 7772.891408789139 and the rmse is 124.6827286258136\n",
      "The loss after 150 iterations is 5859.370102209976 and the rmse is 108.25313022919916\n",
      "The loss after 200 iterations is 5168.1892171557265 and the rmse is 101.6679813624302\n",
      "The loss after 250 iterations is 4915.899646084229 and the rmse is 99.15542996814878\n",
      "The loss after 300 iterations is 4823.436795898406 and the rmse is 98.21849923408935\n",
      "The loss after 350 iterations is 4789.492475033252 and the rmse is 97.87228897939653\n",
      "The loss after 400 iterations is 4777.020812432843 and the rmse is 97.74477799282009\n",
      "The loss after 450 iterations is 4772.436194845141 and the rmse is 97.69786276930668\n",
      "The loss after 500 iterations is 4770.750208605941 and the rmse is 97.6806040993394\n",
      "The loss after 550 iterations is 4770.129969831078 and the rmse is 97.67425423141022\n",
      "The loss after 600 iterations is 4769.901719800147 and the rmse is 97.67191735396769\n",
      "The loss after 650 iterations is 4769.817695112676 and the rmse is 97.67105707539646\n",
      "The loss after 700 iterations is 4769.786753311362 and the rmse is 97.67074027887126\n",
      "The loss after 750 iterations is 4769.775355384144 and the rmse is 97.67062358134245\n",
      "The loss after 800 iterations is 4769.771155407506 and the rmse is 97.6705805799014\n",
      "The loss after 850 iterations is 4769.769607276516 and the rmse is 97.67056472936476\n",
      "The loss after 900 iterations is 4769.769036445623 and the rmse is 97.67055888491294\n",
      "The loss after 950 iterations is 4769.768825900481 and the rmse is 97.67055672924651\n",
      "The loss after 1000 iterations is 4769.768748218553 and the rmse is 97.67055593390009\n",
      "The values of w and b are [72.99307834 66.24632655 97.43785992  1.7174908  17.36250286 24.81519873\n",
      " 71.23057774 30.99419528 20.34967376 93.74484167 39.36754835 37.253725\n",
      "  2.82789652 40.7011222  40.7011222  46.08533099 21.51532946 33.84432661\n",
      " 33.68224674 39.24677312] -0.36563510718879455\n"
     ]
    }
   ],
   "source": [
    "w_final = np.zeros(n,)\n",
    "b_final = 0\n",
    "losses_array = np.zeros(1001)\n",
    "x_modified = z_score(x_values)\n",
    "w_final,b_final,losses_array= multi_linear_regression(x_modified,y_values,m,n,w_init,b_init,0.01,1001)"
   ]
  },
  {
   "cell_type": "code",
   "execution_count": 19,
   "id": "896092ae",
   "metadata": {},
   "outputs": [
    {
     "data": {
      "image/png": "[encoded data removed]",
      "text/plain": [
       "<Figure size 640x480 with 1 Axes>"
      ]
     },
     "metadata": {},
     "output_type": "display_data"
    }
   ],
   "source": [
    "#plot the graph of iterations vs cost function\n",
    "plt.plot(np.arange(1001),losses_array,c='r')\n",
    "plt.xlabel('number of iterations->')\n",
    "plt.ylabel('cost function->')\n",
    "plt.show()"
   ]
  },
  {
   "cell_type": "code",
   "execution_count": 16,
   "id": "2ca4f0bd",
   "metadata": {},
   "outputs": [
    {
     "data": {
      "text/plain": [
       "0.8428783212232978"
      ]
     },
     "execution_count": 16,
     "metadata": {},
     "output_type": "execute_result"
    }
   ],
   "source": [
    "r2(x_modified,y_values,w_final,b_final,m,n)"
   ]
  },
  {
   "cell_type": "code",
   "execution_count": null,
   "id": "423a4785",
   "metadata": {},
   "outputs": [],
   "source": []
  }
 ],
 "metadata": {
  "kernelspec": {
   "display_name": "Python 3 (ipykernel)",
   "language": "python",
   "name": "python3"
  },
  "language_info": {
   "codemirror_mode": {
    "name": "ipython",
    "version": 3
   },
   "file_extension": ".py",
   "mimetype": "text/x-python",
   "name": "python",
   "nbconvert_exporter": "python",
   "pygments_lexer": "ipython3",
   "version": "3.11.2"
  }
 },
 "nbformat": 4,
 "nbformat_minor": 5
}
